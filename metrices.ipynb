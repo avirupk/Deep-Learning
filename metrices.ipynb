{
 "cells": [
  {
   "cell_type": "code",
   "execution_count": 1,
   "id": "dfbc1ac1",
   "metadata": {},
   "outputs": [],
   "source": [
    "import numpy as np"
   ]
  },
  {
   "cell_type": "code",
   "execution_count": 3,
   "id": "36666e8e",
   "metadata": {},
   "outputs": [],
   "source": [
    "revenue=np.array([[180,200,220],[24,36,40],[12,18,20]])\n",
    "expense=np.array([[80,90,100],[10,16,20],[8,10,10]])"
   ]
  },
  {
   "cell_type": "code",
   "execution_count": 4,
   "id": "938b5dee",
   "metadata": {},
   "outputs": [],
   "source": [
    "profit=revenue-expense"
   ]
  },
  {
   "cell_type": "code",
   "execution_count": 5,
   "id": "38ecd7dd",
   "metadata": {},
   "outputs": [
    {
     "data": {
      "text/plain": [
       "array([[100, 110, 120],\n",
       "       [ 14,  20,  20],\n",
       "       [  4,   8,  10]])"
      ]
     },
     "execution_count": 5,
     "metadata": {},
     "output_type": "execute_result"
    }
   ],
   "source": [
    "profit"
   ]
  },
  {
   "cell_type": "code",
   "execution_count": 6,
   "id": "ffb79cd7",
   "metadata": {},
   "outputs": [],
   "source": [
    "\n",
    "price_per_unit = np.array([1000,400,1200])\n",
    "units = np.array([[30,40,50],[5,10,15],[2,5,7]])"
   ]
  },
  {
   "cell_type": "code",
   "execution_count": 7,
   "id": "ec0da9fd",
   "metadata": {},
   "outputs": [],
   "source": [
    "total_cost=np.dot(price_per_unit,units)"
   ]
  },
  {
   "cell_type": "code",
   "execution_count": 8,
   "id": "50d2c489",
   "metadata": {},
   "outputs": [
    {
     "data": {
      "text/plain": [
       "array([34400, 50000, 64400])"
      ]
     },
     "execution_count": 8,
     "metadata": {},
     "output_type": "execute_result"
    }
   ],
   "source": [
    "total_cost"
   ]
  },
  {
   "cell_type": "markdown",
   "id": "7659b8f1",
   "metadata": {},
   "source": [
    "Exercise"
   ]
  },
  {
   "cell_type": "code",
   "execution_count": 9,
   "id": "60673e98",
   "metadata": {},
   "outputs": [],
   "source": [
    "Revenue=np.array([[200,220,250],[68,79,105],[110,140,180],[80,85,90]])"
   ]
  },
  {
   "cell_type": "code",
   "execution_count": 10,
   "id": "d051fbe6",
   "metadata": {},
   "outputs": [],
   "source": [
    "Revenue_inr=Revenue*np.array([75])"
   ]
  },
  {
   "cell_type": "code",
   "execution_count": 11,
   "id": "f6f1f1e0",
   "metadata": {},
   "outputs": [
    {
     "data": {
      "text/plain": [
       "array([[15000, 16500, 18750],\n",
       "       [ 5100,  5925,  7875],\n",
       "       [ 8250, 10500, 13500],\n",
       "       [ 6000,  6375,  6750]])"
      ]
     },
     "execution_count": 11,
     "metadata": {},
     "output_type": "execute_result"
    }
   ],
   "source": [
    "Revenue_inr"
   ]
  }
 ],
 "metadata": {
  "kernelspec": {
   "display_name": "Python 3",
   "language": "python",
   "name": "python3"
  },
  "language_info": {
   "codemirror_mode": {
    "name": "ipython",
    "version": 3
   },
   "file_extension": ".py",
   "mimetype": "text/x-python",
   "name": "python",
   "nbconvert_exporter": "python",
   "pygments_lexer": "ipython3",
   "version": "3.12.4"
  }
 },
 "nbformat": 4,
 "nbformat_minor": 5
}
