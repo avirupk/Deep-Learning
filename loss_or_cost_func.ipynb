{
 "cells": [
  {
   "cell_type": "code",
   "execution_count": 51,
   "id": "34c80d3d",
   "metadata": {},
   "outputs": [],
   "source": [
    "import numpy as np\n",
    "import pandas as pd\n",
    "import matplotlib.pyplot as plt\n",
    "import seaborn as sns"
   ]
  },
  {
   "cell_type": "code",
   "execution_count": 52,
   "id": "4383a75e",
   "metadata": {},
   "outputs": [],
   "source": [
    "y_predicted=np.array([1,1,0,0,1])\n",
    "y_true=np.array([0.30,0.7,1,0,0.5])"
   ]
  },
  {
   "cell_type": "markdown",
   "id": "e0d3cedd",
   "metadata": {},
   "source": [
    "\n",
    "Implement Mean Absolute Error"
   ]
  },
  {
   "cell_type": "code",
   "execution_count": 53,
   "id": "6e3c64e0",
   "metadata": {},
   "outputs": [],
   "source": [
    "def mae(y_predicted,y_true):\n",
    "    total_error=0\n",
    "    for index_y_p,index_y_t in zip(y_predicted,y_true):\n",
    "        total_error += abs(index_y_t-index_y_p)\n",
    "\n",
    "    print(\"Total Error = \",total_error)\n",
    "    mae=total_error/len(y_predicted)\n",
    "    print(\"Mean Absolute Error = \",mae)\n",
    "    return mae"
   ]
  },
  {
   "cell_type": "code",
   "execution_count": 54,
   "id": "d8f2c405",
   "metadata": {},
   "outputs": [
    {
     "name": "stdout",
     "output_type": "stream",
     "text": [
      "Total Error =  2.5\n",
      "Mean Absolute Error =  0.5\n"
     ]
    },
    {
     "data": {
      "text/plain": [
       "np.float64(0.5)"
      ]
     },
     "execution_count": 54,
     "metadata": {},
     "output_type": "execute_result"
    }
   ],
   "source": [
    "mae(y_predicted,y_true)"
   ]
  },
  {
   "cell_type": "code",
   "execution_count": 55,
   "id": "73441777",
   "metadata": {},
   "outputs": [],
   "source": [
    "# using numpy\n",
    "def mae_numpy(y_predicted,y_true):\n",
    "    total_error=np.absolute(y_predicted-y_true)\n",
    "    print(\"Total Error = \",np.sum(total_error))\n",
    "    mae=np.mean(total_error)\n",
    "    print(\"Mean Absolute Error = \",mae)\n",
    "    return mae"
   ]
  },
  {
   "cell_type": "code",
   "execution_count": 56,
   "id": "3a6dc95a",
   "metadata": {},
   "outputs": [
    {
     "name": "stdout",
     "output_type": "stream",
     "text": [
      "Total Error =  2.5\n",
      "Mean Absolute Error =  0.5\n"
     ]
    },
    {
     "data": {
      "text/plain": [
       "np.float64(0.5)"
      ]
     },
     "execution_count": 56,
     "metadata": {},
     "output_type": "execute_result"
    }
   ],
   "source": [
    "mae_numpy(y_predicted,y_true)"
   ]
  },
  {
   "cell_type": "markdown",
   "id": "79a2b195",
   "metadata": {},
   "source": [
    "\n",
    "Implement Log Loss or Binary Cross Entropy"
   ]
  },
  {
   "cell_type": "code",
   "execution_count": 57,
   "id": "ea73d7f4",
   "metadata": {},
   "outputs": [
    {
     "name": "stderr",
     "output_type": "stream",
     "text": [
      "C:\\Users\\UASER\\AppData\\Local\\Temp\\ipykernel_5260\\2933082444.py:1: RuntimeWarning: divide by zero encountered in log\n",
      "  np.log(0)\n"
     ]
    },
    {
     "data": {
      "text/plain": [
       "np.float64(-inf)"
      ]
     },
     "execution_count": 57,
     "metadata": {},
     "output_type": "execute_result"
    }
   ],
   "source": [
    "np.log(0)"
   ]
  },
  {
   "cell_type": "code",
   "execution_count": 58,
   "id": "20298048",
   "metadata": {},
   "outputs": [
    {
     "data": {
      "text/plain": [
       "np.float64(-34.538776394910684)"
      ]
     },
     "execution_count": 58,
     "metadata": {},
     "output_type": "execute_result"
    }
   ],
   "source": [
    "epsillon=1e-15\n",
    "np.log(epsillon)"
   ]
  },
  {
   "cell_type": "code",
   "execution_count": 59,
   "id": "9d8c04ad",
   "metadata": {},
   "outputs": [
    {
     "data": {
      "text/plain": [
       "array([1, 1, 0, 0, 1])"
      ]
     },
     "execution_count": 59,
     "metadata": {},
     "output_type": "execute_result"
    }
   ],
   "source": [
    "y_predicted"
   ]
  },
  {
   "cell_type": "code",
   "execution_count": 60,
   "id": "5a204998",
   "metadata": {},
   "outputs": [],
   "source": [
    "y_predicted=([max(i,epsillon) for i in y_predicted])"
   ]
  },
  {
   "cell_type": "code",
   "execution_count": 61,
   "id": "a68a655e",
   "metadata": {},
   "outputs": [
    {
     "data": {
      "text/plain": [
       "[np.int64(1), np.int64(1), 1e-15, 1e-15, np.int64(1)]"
      ]
     },
     "execution_count": 61,
     "metadata": {},
     "output_type": "execute_result"
    }
   ],
   "source": [
    "y_predicted"
   ]
  },
  {
   "cell_type": "code",
   "execution_count": 64,
   "id": "e57c137e",
   "metadata": {},
   "outputs": [],
   "source": [
    "y_predicted=([min(i,1-epsillon) for i in y_predicted])"
   ]
  },
  {
   "cell_type": "code",
   "execution_count": 65,
   "id": "6f9fd489",
   "metadata": {},
   "outputs": [
    {
     "data": {
      "text/plain": [
       "[0.999999999999999, 0.999999999999999, 1e-15, 1e-15, 0.999999999999999]"
      ]
     },
     "execution_count": 65,
     "metadata": {},
     "output_type": "execute_result"
    }
   ],
   "source": [
    "y_predicted"
   ]
  },
  {
   "cell_type": "code",
   "execution_count": 67,
   "id": "c8af5fa3",
   "metadata": {},
   "outputs": [
    {
     "data": {
      "text/plain": [
       "array([1.e+00, 1.e+00, 1.e-15, 1.e-15, 1.e+00])"
      ]
     },
     "execution_count": 67,
     "metadata": {},
     "output_type": "execute_result"
    }
   ],
   "source": [
    "y_predicted=np.array(y_predicted)\n",
    "y_predicted"
   ]
  },
  {
   "cell_type": "code",
   "execution_count": 68,
   "id": "25345366",
   "metadata": {},
   "outputs": [],
   "source": [
    "def log_loss(y_predicted,y_true):\n",
    "    epsillon=1e-15\n",
    "    y_predicted=([max(i,epsillon) for i in y_predicted])\n",
    "    y_predicted=([min(i,1-epsillon) for i in y_predicted])\n",
    "    y_predicted=np.array(y_predicted)\n",
    "    return np.mean(-(y_true*np.log(y_predicted)+(1-y_true)*np.log(1-y_predicted)))\n",
    " "
   ]
  },
  {
   "cell_type": "code",
   "execution_count": 69,
   "id": "07d94b20",
   "metadata": {},
   "outputs": [
    {
     "data": {
      "text/plain": [
       "np.float64(17.2696280766844)"
      ]
     },
     "execution_count": 69,
     "metadata": {},
     "output_type": "execute_result"
    }
   ],
   "source": [
    "log_loss(y_predicted,y_true)"
   ]
  },
  {
   "cell_type": "markdown",
   "id": "5b39f7e4",
   "metadata": {},
   "source": [
    "\n",
    "Implement mean squared error (or MSE) in two ways,"
   ]
  },
  {
   "cell_type": "code",
   "execution_count": 72,
   "id": "62618740",
   "metadata": {},
   "outputs": [],
   "source": [
    "import math\n",
    "def mse(y_predicted,y_true):\n",
    "    total_error=0\n",
    "    for index_y_p,index_y_t in zip(y_predicted,y_true):\n",
    "        total_error +=(index_y_t-index_y_p)**2\n",
    "    print(\"Total Error = \",total_error)\n",
    "    mse=total_error/len(y_predicted)\n",
    "    print(\"Mean Absolute Error = \",mse)"
   ]
  },
  {
   "cell_type": "code",
   "execution_count": 73,
   "id": "8c2b20a2",
   "metadata": {},
   "outputs": [
    {
     "name": "stdout",
     "output_type": "stream",
     "text": [
      "Total Error =  1.8299999999999952\n",
      "Mean Absolute Error =  0.36599999999999905\n"
     ]
    }
   ],
   "source": [
    "mse(y_predicted,y_true)"
   ]
  },
  {
   "cell_type": "code",
   "execution_count": 74,
   "id": "a43061d5",
   "metadata": {},
   "outputs": [],
   "source": [
    "# using numpy\n",
    "def mse_numpy(y_predicted,y_true):\n",
    "    total_error=0\n",
    "    total_error +=np.square(y_predicted-y_true)\n",
    "    print(\"Total Error = \",total_error)\n",
    "    mse=np.mean(total_error)\n",
    "    print(\"Mean Absolute Error = \",mse)"
   ]
  },
  {
   "cell_type": "code",
   "execution_count": 75,
   "id": "d0987875",
   "metadata": {},
   "outputs": [
    {
     "name": "stdout",
     "output_type": "stream",
     "text": [
      "Total Error =  1.8299999999999952\n",
      "Mean Absolute Error =  0.36599999999999905\n"
     ]
    }
   ],
   "source": [
    "mse(y_predicted,y_true)"
   ]
  }
 ],
 "metadata": {
  "kernelspec": {
   "display_name": "Python 3",
   "language": "python",
   "name": "python3"
  },
  "language_info": {
   "codemirror_mode": {
    "name": "ipython",
    "version": 3
   },
   "file_extension": ".py",
   "mimetype": "text/x-python",
   "name": "python",
   "nbconvert_exporter": "python",
   "pygments_lexer": "ipython3",
   "version": "3.12.4"
  }
 },
 "nbformat": 4,
 "nbformat_minor": 5
}
